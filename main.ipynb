{
 "cells": [
  {
   "cell_type": "code",
   "execution_count": null,
   "id": "initial_id",
   "metadata": {
    "collapsed": true
   },
   "outputs": [],
   "source": [
    "import pandas as pd\n",
    "\n",
    "# Load data from a CSV file\n",
    "data = pd.read_csv(\"data.csv\", parse_dates=[\"date\"], date_parser=lambda x: pd.to_datetime(x, format=\"%d-%b\"))\n",
    "\n"
   ]
  },
  {
   "cell_type": "code",
   "outputs": [],
   "source": [
    "data\n"
   ],
   "metadata": {
    "collapsed": false
   },
   "id": "fe56e5ad9f64d689",
   "execution_count": null
  },
  {
   "cell_type": "code",
   "outputs": [],
   "source": [
    "# Replace missing values with zeros\n",
    "data.fillna(0, inplace=True)\n"
   ],
   "metadata": {
    "collapsed": false
   },
   "id": "9b70f07b255ab661",
   "execution_count": null
  },
  {
   "cell_type": "code",
   "outputs": [],
   "source": [
    "data['Net']"
   ],
   "metadata": {
    "collapsed": false
   },
   "id": "1f4d215101a29dec",
   "execution_count": null
  },
  {
   "cell_type": "code",
   "outputs": [],
   "source": [
    "from sklearn.model_selection import train_test_split\n",
    "from sklearn.linear_model import LinearRegression\n",
    "from sklearn.metrics import mean_absolute_error\n",
    "\n",
    "# Define features (X) and target variable (y)\n",
    "X = data.drop(columns=[\"Net\"])\n"
   ],
   "metadata": {
    "collapsed": false
   },
   "id": "4070b3f456e60930",
   "execution_count": null
  },
  {
   "cell_type": "code",
   "outputs": [],
   "source": [
    "X"
   ],
   "metadata": {
    "collapsed": false
   },
   "id": "c16a9db0d175bf21",
   "execution_count": null
  },
  {
   "cell_type": "code",
   "outputs": [],
   "source": [
    "y = data[\"Net\"]"
   ],
   "metadata": {
    "collapsed": false
   },
   "id": "757bfca476cf4a81",
   "execution_count": null
  },
  {
   "cell_type": "code",
   "outputs": [],
   "source": [
    "y"
   ],
   "metadata": {
    "collapsed": false
   },
   "id": "f3306eb7fec76a6",
   "execution_count": null
  },
  {
   "cell_type": "code",
   "outputs": [],
   "source": [
    "# Split data into training and testing sets\n",
    "X_train, X_test, y_train, y_test = train_test_split(X, y, test_size=0.2, random_state=42)\n"
   ],
   "metadata": {
    "collapsed": false
   },
   "id": "2ab5e8be9da8c48e",
   "execution_count": null
  },
  {
   "cell_type": "code",
   "outputs": [
    {
     "data": {
      "text/plain": "         date                    name   INCOME  EXPENDITURE  Room Hire  \\\n24 1900-07-05            EPA - M John  1660.00       730.86        0.0   \n15 1900-01-25         EPA - A Spellar  1430.00       526.87        0.0   \n17 1900-03-14       EPA - R Henderson  1475.00       841.68        0.0   \n8  1900-11-10         EPA - A Thomson  1350.00       354.96        0.0   \n16 1900-02-14          EPA - K Benson  1660.00       682.44        0.0   \n12 1900-01-05           EPA - K Short  1350.00       350.00        0.0   \n19 1900-05-11  EPA - Z Edwards-Clarke  1433.00       761.41        0.0   \n9  1900-11-27             EPA - C Guy  1620.00       868.67        0.0   \n32 1900-07-27          EPA - A Harris  1430.00       573.19        0.0   \n0  1900-09-23          EPA 0 C Graham  1501.60       431.54        0.0   \n25 1900-07-06  EPA - S Holland (Gray)  1430.00       567.64        0.0   \n5  1900-11-03       EPA - S Stevenson  1760.00      1251.70        0.0   \n11 1900-11-30          EPA - S Norman  1760.00       449.06        0.0   \n1  1900-10-05          EPA - C Barker  1410.00       449.37        0.0   \n37 1900-08-01          EPA - M Wright   139.30       672.25        0.0   \n21 1900-05-16         EPA - R Ellahee  1620.00       958.81        0.0   \n2  1900-10-21          EPA - J Siddle  1438.80       471.51        0.0   \n29 1900-07-27           EPA - J Frost  1350.00       369.42        0.0   \n35 1900-08-17       EPA - E Proudlove  1660.00      1370.08        0.0   \n3  1900-10-25           EPA - H Shord  1350.00       300.00        0.0   \n34 1900-07-19            EPA - S Bond  1660.00      1017.24        0.0   \n23 1900-05-31           EPA - J Terry  1439.99       741.23        0.0   \n31 1900-10-03          EPA - L Jesson  1350.00         0.00        0.0   \n10 1900-11-25   KT Resit - J Padfield   177.50         0.00        0.0   \n22 1900-06-08       EPA - S Arrundale  1350.00       357.02        0.0   \n18 1900-04-12         Resit - K Short   337.50         0.00        0.0   \n20 1900-05-25     Resit - A Greenwood   337.50         0.00        0.0   \n7  1900-11-13           EPA - A Smith  1620.00      1449.29        0.0   \n14 1900-01-26          EPA - S Harris  1350.00       458.38        0.0   \n28 1900-07-27        EPA - A Sheppard  1438.80       333.06        0.0   \n\n    Day rate  Moderation  Other/IQA   Shadow/Obsv/Invig/Mod/IQA   \\\n24     600.0         0.0        0.0                          0.0   \n15     310.0        50.0        0.0                          0.0   \n17     450.0        50.0        0.0                          0.0   \n8      335.0         0.0        0.0                          0.0   \n16     600.0         0.0        0.0                          0.0   \n12     300.0        50.0        0.0                          0.0   \n19     300.0        50.0        0.0                          0.0   \n9      665.0         0.0        0.0                          0.0   \n32     300.0        50.0        0.0                          0.0   \n0      300.0         0.0        0.0                          0.0   \n25     320.0         0.0        0.0                          0.0   \n5      490.0         0.0        0.0                          0.0   \n11     340.0         0.0        0.0                          0.0   \n1      320.0         0.0        0.0                          0.0   \n37     400.0        50.0        0.0                          0.0   \n21     600.0        50.0        0.0                          0.0   \n2      300.0         0.0        0.0                          0.0   \n29     300.0         0.0       25.0                          0.0   \n35     740.0         0.0        0.0                          0.0   \n3      300.0         0.0        0.0                          0.0   \n34     600.0        50.0       37.5                          0.0   \n23     450.0         0.0        0.0                          0.0   \n31       0.0         0.0        0.0                          0.0   \n10       0.0         0.0        0.0                          0.0   \n22     300.0        50.0        0.0                          0.0   \n18       0.0         0.0        0.0                          0.0   \n20       0.0         0.0        0.0                          0.0   \n7      700.0         0.0        0.0                          0.0   \n14     310.0         0.0        0.0                          0.0   \n28     300.0         0.0        0.0                          0.0   \n\n     Mileage/travel    B&B/Subs     Total Margin  \n24            130.86        0.00   730.86    56%  \n15            124.12       42.75   526.87    63%  \n17            232.68      109.00   841.68    43%  \n8              19.96        0.00   354.96    74%  \n16             82.44        0.00   682.44    59%  \n12              0.00        0.00   350.00    74%  \n19            343.41       68.00   761.41    47%  \n9             203.67        0.00   868.67    46%  \n32             55.35      167.84   573.19    60%  \n0             131.54        0.00   431.54    71%  \n25            145.14      102.50   567.64    60%  \n5             502.38      259.32  1251.70    29%  \n11             73.08       35.98   449.06    74%  \n1             124.12        5.25   449.37    68%  \n37            152.25       70.00   672.25  -383%  \n21            308.81        0.00   958.81    41%  \n2              79.76       91.75   471.51    67%  \n29             44.42        0.00   369.42    73%  \n35            444.58      185.50  1370.08    17%  \n3               0.00        0.00   300.00    78%  \n34            232.74       97.00  1017.24    39%  \n23            209.23       82.00   741.23    49%  \n31              0.00        0.00     0.00   100%  \n10              0.00        0.00     0.00   100%  \n22              7.02        0.00   357.02    74%  \n18              0.00        0.00     0.00   100%  \n20              0.00        0.00     0.00   100%  \n7             492.07      257.22  1449.29    11%  \n14            105.63       42.75   458.38    66%  \n28             33.06        0.00   333.06    77%  ",
      "text/html": "<div>\n<style scoped>\n    .dataframe tbody tr th:only-of-type {\n        vertical-align: middle;\n    }\n\n    .dataframe tbody tr th {\n        vertical-align: top;\n    }\n\n    .dataframe thead th {\n        text-align: right;\n    }\n</style>\n<table border=\"1\" class=\"dataframe\">\n  <thead>\n    <tr style=\"text-align: right;\">\n      <th></th>\n      <th>date</th>\n      <th>name</th>\n      <th>INCOME</th>\n      <th>EXPENDITURE</th>\n      <th>Room Hire</th>\n      <th>Day rate</th>\n      <th>Moderation</th>\n      <th>Other/IQA</th>\n      <th>Shadow/Obsv/Invig/Mod/IQA</th>\n      <th>Mileage/travel</th>\n      <th>B&amp;B/Subs</th>\n      <th>Total</th>\n      <th>Margin</th>\n    </tr>\n  </thead>\n  <tbody>\n    <tr>\n      <th>24</th>\n      <td>1900-07-05</td>\n      <td>EPA - M John</td>\n      <td>1660.00</td>\n      <td>730.86</td>\n      <td>0.0</td>\n      <td>600.0</td>\n      <td>0.0</td>\n      <td>0.0</td>\n      <td>0.0</td>\n      <td>130.86</td>\n      <td>0.00</td>\n      <td>730.86</td>\n      <td>56%</td>\n    </tr>\n    <tr>\n      <th>15</th>\n      <td>1900-01-25</td>\n      <td>EPA - A Spellar</td>\n      <td>1430.00</td>\n      <td>526.87</td>\n      <td>0.0</td>\n      <td>310.0</td>\n      <td>50.0</td>\n      <td>0.0</td>\n      <td>0.0</td>\n      <td>124.12</td>\n      <td>42.75</td>\n      <td>526.87</td>\n      <td>63%</td>\n    </tr>\n    <tr>\n      <th>17</th>\n      <td>1900-03-14</td>\n      <td>EPA - R Henderson</td>\n      <td>1475.00</td>\n      <td>841.68</td>\n      <td>0.0</td>\n      <td>450.0</td>\n      <td>50.0</td>\n      <td>0.0</td>\n      <td>0.0</td>\n      <td>232.68</td>\n      <td>109.00</td>\n      <td>841.68</td>\n      <td>43%</td>\n    </tr>\n    <tr>\n      <th>8</th>\n      <td>1900-11-10</td>\n      <td>EPA - A Thomson</td>\n      <td>1350.00</td>\n      <td>354.96</td>\n      <td>0.0</td>\n      <td>335.0</td>\n      <td>0.0</td>\n      <td>0.0</td>\n      <td>0.0</td>\n      <td>19.96</td>\n      <td>0.00</td>\n      <td>354.96</td>\n      <td>74%</td>\n    </tr>\n    <tr>\n      <th>16</th>\n      <td>1900-02-14</td>\n      <td>EPA - K Benson</td>\n      <td>1660.00</td>\n      <td>682.44</td>\n      <td>0.0</td>\n      <td>600.0</td>\n      <td>0.0</td>\n      <td>0.0</td>\n      <td>0.0</td>\n      <td>82.44</td>\n      <td>0.00</td>\n      <td>682.44</td>\n      <td>59%</td>\n    </tr>\n    <tr>\n      <th>12</th>\n      <td>1900-01-05</td>\n      <td>EPA - K Short</td>\n      <td>1350.00</td>\n      <td>350.00</td>\n      <td>0.0</td>\n      <td>300.0</td>\n      <td>50.0</td>\n      <td>0.0</td>\n      <td>0.0</td>\n      <td>0.00</td>\n      <td>0.00</td>\n      <td>350.00</td>\n      <td>74%</td>\n    </tr>\n    <tr>\n      <th>19</th>\n      <td>1900-05-11</td>\n      <td>EPA - Z Edwards-Clarke</td>\n      <td>1433.00</td>\n      <td>761.41</td>\n      <td>0.0</td>\n      <td>300.0</td>\n      <td>50.0</td>\n      <td>0.0</td>\n      <td>0.0</td>\n      <td>343.41</td>\n      <td>68.00</td>\n      <td>761.41</td>\n      <td>47%</td>\n    </tr>\n    <tr>\n      <th>9</th>\n      <td>1900-11-27</td>\n      <td>EPA - C Guy</td>\n      <td>1620.00</td>\n      <td>868.67</td>\n      <td>0.0</td>\n      <td>665.0</td>\n      <td>0.0</td>\n      <td>0.0</td>\n      <td>0.0</td>\n      <td>203.67</td>\n      <td>0.00</td>\n      <td>868.67</td>\n      <td>46%</td>\n    </tr>\n    <tr>\n      <th>32</th>\n      <td>1900-07-27</td>\n      <td>EPA - A Harris</td>\n      <td>1430.00</td>\n      <td>573.19</td>\n      <td>0.0</td>\n      <td>300.0</td>\n      <td>50.0</td>\n      <td>0.0</td>\n      <td>0.0</td>\n      <td>55.35</td>\n      <td>167.84</td>\n      <td>573.19</td>\n      <td>60%</td>\n    </tr>\n    <tr>\n      <th>0</th>\n      <td>1900-09-23</td>\n      <td>EPA 0 C Graham</td>\n      <td>1501.60</td>\n      <td>431.54</td>\n      <td>0.0</td>\n      <td>300.0</td>\n      <td>0.0</td>\n      <td>0.0</td>\n      <td>0.0</td>\n      <td>131.54</td>\n      <td>0.00</td>\n      <td>431.54</td>\n      <td>71%</td>\n    </tr>\n    <tr>\n      <th>25</th>\n      <td>1900-07-06</td>\n      <td>EPA - S Holland (Gray)</td>\n      <td>1430.00</td>\n      <td>567.64</td>\n      <td>0.0</td>\n      <td>320.0</td>\n      <td>0.0</td>\n      <td>0.0</td>\n      <td>0.0</td>\n      <td>145.14</td>\n      <td>102.50</td>\n      <td>567.64</td>\n      <td>60%</td>\n    </tr>\n    <tr>\n      <th>5</th>\n      <td>1900-11-03</td>\n      <td>EPA - S Stevenson</td>\n      <td>1760.00</td>\n      <td>1251.70</td>\n      <td>0.0</td>\n      <td>490.0</td>\n      <td>0.0</td>\n      <td>0.0</td>\n      <td>0.0</td>\n      <td>502.38</td>\n      <td>259.32</td>\n      <td>1251.70</td>\n      <td>29%</td>\n    </tr>\n    <tr>\n      <th>11</th>\n      <td>1900-11-30</td>\n      <td>EPA - S Norman</td>\n      <td>1760.00</td>\n      <td>449.06</td>\n      <td>0.0</td>\n      <td>340.0</td>\n      <td>0.0</td>\n      <td>0.0</td>\n      <td>0.0</td>\n      <td>73.08</td>\n      <td>35.98</td>\n      <td>449.06</td>\n      <td>74%</td>\n    </tr>\n    <tr>\n      <th>1</th>\n      <td>1900-10-05</td>\n      <td>EPA - C Barker</td>\n      <td>1410.00</td>\n      <td>449.37</td>\n      <td>0.0</td>\n      <td>320.0</td>\n      <td>0.0</td>\n      <td>0.0</td>\n      <td>0.0</td>\n      <td>124.12</td>\n      <td>5.25</td>\n      <td>449.37</td>\n      <td>68%</td>\n    </tr>\n    <tr>\n      <th>37</th>\n      <td>1900-08-01</td>\n      <td>EPA - M Wright</td>\n      <td>139.30</td>\n      <td>672.25</td>\n      <td>0.0</td>\n      <td>400.0</td>\n      <td>50.0</td>\n      <td>0.0</td>\n      <td>0.0</td>\n      <td>152.25</td>\n      <td>70.00</td>\n      <td>672.25</td>\n      <td>-383%</td>\n    </tr>\n    <tr>\n      <th>21</th>\n      <td>1900-05-16</td>\n      <td>EPA - R Ellahee</td>\n      <td>1620.00</td>\n      <td>958.81</td>\n      <td>0.0</td>\n      <td>600.0</td>\n      <td>50.0</td>\n      <td>0.0</td>\n      <td>0.0</td>\n      <td>308.81</td>\n      <td>0.00</td>\n      <td>958.81</td>\n      <td>41%</td>\n    </tr>\n    <tr>\n      <th>2</th>\n      <td>1900-10-21</td>\n      <td>EPA - J Siddle</td>\n      <td>1438.80</td>\n      <td>471.51</td>\n      <td>0.0</td>\n      <td>300.0</td>\n      <td>0.0</td>\n      <td>0.0</td>\n      <td>0.0</td>\n      <td>79.76</td>\n      <td>91.75</td>\n      <td>471.51</td>\n      <td>67%</td>\n    </tr>\n    <tr>\n      <th>29</th>\n      <td>1900-07-27</td>\n      <td>EPA - J Frost</td>\n      <td>1350.00</td>\n      <td>369.42</td>\n      <td>0.0</td>\n      <td>300.0</td>\n      <td>0.0</td>\n      <td>25.0</td>\n      <td>0.0</td>\n      <td>44.42</td>\n      <td>0.00</td>\n      <td>369.42</td>\n      <td>73%</td>\n    </tr>\n    <tr>\n      <th>35</th>\n      <td>1900-08-17</td>\n      <td>EPA - E Proudlove</td>\n      <td>1660.00</td>\n      <td>1370.08</td>\n      <td>0.0</td>\n      <td>740.0</td>\n      <td>0.0</td>\n      <td>0.0</td>\n      <td>0.0</td>\n      <td>444.58</td>\n      <td>185.50</td>\n      <td>1370.08</td>\n      <td>17%</td>\n    </tr>\n    <tr>\n      <th>3</th>\n      <td>1900-10-25</td>\n      <td>EPA - H Shord</td>\n      <td>1350.00</td>\n      <td>300.00</td>\n      <td>0.0</td>\n      <td>300.0</td>\n      <td>0.0</td>\n      <td>0.0</td>\n      <td>0.0</td>\n      <td>0.00</td>\n      <td>0.00</td>\n      <td>300.00</td>\n      <td>78%</td>\n    </tr>\n    <tr>\n      <th>34</th>\n      <td>1900-07-19</td>\n      <td>EPA - S Bond</td>\n      <td>1660.00</td>\n      <td>1017.24</td>\n      <td>0.0</td>\n      <td>600.0</td>\n      <td>50.0</td>\n      <td>37.5</td>\n      <td>0.0</td>\n      <td>232.74</td>\n      <td>97.00</td>\n      <td>1017.24</td>\n      <td>39%</td>\n    </tr>\n    <tr>\n      <th>23</th>\n      <td>1900-05-31</td>\n      <td>EPA - J Terry</td>\n      <td>1439.99</td>\n      <td>741.23</td>\n      <td>0.0</td>\n      <td>450.0</td>\n      <td>0.0</td>\n      <td>0.0</td>\n      <td>0.0</td>\n      <td>209.23</td>\n      <td>82.00</td>\n      <td>741.23</td>\n      <td>49%</td>\n    </tr>\n    <tr>\n      <th>31</th>\n      <td>1900-10-03</td>\n      <td>EPA - L Jesson</td>\n      <td>1350.00</td>\n      <td>0.00</td>\n      <td>0.0</td>\n      <td>0.0</td>\n      <td>0.0</td>\n      <td>0.0</td>\n      <td>0.0</td>\n      <td>0.00</td>\n      <td>0.00</td>\n      <td>0.00</td>\n      <td>100%</td>\n    </tr>\n    <tr>\n      <th>10</th>\n      <td>1900-11-25</td>\n      <td>KT Resit - J Padfield</td>\n      <td>177.50</td>\n      <td>0.00</td>\n      <td>0.0</td>\n      <td>0.0</td>\n      <td>0.0</td>\n      <td>0.0</td>\n      <td>0.0</td>\n      <td>0.00</td>\n      <td>0.00</td>\n      <td>0.00</td>\n      <td>100%</td>\n    </tr>\n    <tr>\n      <th>22</th>\n      <td>1900-06-08</td>\n      <td>EPA - S Arrundale</td>\n      <td>1350.00</td>\n      <td>357.02</td>\n      <td>0.0</td>\n      <td>300.0</td>\n      <td>50.0</td>\n      <td>0.0</td>\n      <td>0.0</td>\n      <td>7.02</td>\n      <td>0.00</td>\n      <td>357.02</td>\n      <td>74%</td>\n    </tr>\n    <tr>\n      <th>18</th>\n      <td>1900-04-12</td>\n      <td>Resit - K Short</td>\n      <td>337.50</td>\n      <td>0.00</td>\n      <td>0.0</td>\n      <td>0.0</td>\n      <td>0.0</td>\n      <td>0.0</td>\n      <td>0.0</td>\n      <td>0.00</td>\n      <td>0.00</td>\n      <td>0.00</td>\n      <td>100%</td>\n    </tr>\n    <tr>\n      <th>20</th>\n      <td>1900-05-25</td>\n      <td>Resit - A Greenwood</td>\n      <td>337.50</td>\n      <td>0.00</td>\n      <td>0.0</td>\n      <td>0.0</td>\n      <td>0.0</td>\n      <td>0.0</td>\n      <td>0.0</td>\n      <td>0.00</td>\n      <td>0.00</td>\n      <td>0.00</td>\n      <td>100%</td>\n    </tr>\n    <tr>\n      <th>7</th>\n      <td>1900-11-13</td>\n      <td>EPA - A Smith</td>\n      <td>1620.00</td>\n      <td>1449.29</td>\n      <td>0.0</td>\n      <td>700.0</td>\n      <td>0.0</td>\n      <td>0.0</td>\n      <td>0.0</td>\n      <td>492.07</td>\n      <td>257.22</td>\n      <td>1449.29</td>\n      <td>11%</td>\n    </tr>\n    <tr>\n      <th>14</th>\n      <td>1900-01-26</td>\n      <td>EPA - S Harris</td>\n      <td>1350.00</td>\n      <td>458.38</td>\n      <td>0.0</td>\n      <td>310.0</td>\n      <td>0.0</td>\n      <td>0.0</td>\n      <td>0.0</td>\n      <td>105.63</td>\n      <td>42.75</td>\n      <td>458.38</td>\n      <td>66%</td>\n    </tr>\n    <tr>\n      <th>28</th>\n      <td>1900-07-27</td>\n      <td>EPA - A Sheppard</td>\n      <td>1438.80</td>\n      <td>333.06</td>\n      <td>0.0</td>\n      <td>300.0</td>\n      <td>0.0</td>\n      <td>0.0</td>\n      <td>0.0</td>\n      <td>33.06</td>\n      <td>0.00</td>\n      <td>333.06</td>\n      <td>77%</td>\n    </tr>\n  </tbody>\n</table>\n</div>"
     },
     "execution_count": 99,
     "metadata": {},
     "output_type": "execute_result"
    }
   ],
   "source": [
    "X_train"
   ],
   "metadata": {
    "collapsed": false,
    "ExecuteTime": {
     "end_time": "2024-03-12T14:51:58.197240Z",
     "start_time": "2024-03-12T14:51:58.167230Z"
    }
   },
   "id": "177ed9a885367b70",
   "execution_count": 99
  },
  {
   "cell_type": "code",
   "outputs": [
    {
     "data": {
      "text/plain": "24     929.14\n15     903.13\n17     633.32\n8      995.04\n16     977.56\n12    1000.00\n19     671.59\n9      751.33\n32     856.81\n0     1070.06\n25     862.36\n5      508.30\n11    1310.94\n1      960.63\n37    -532.95\n21     661.19\n2      967.29\n29     980.58\n35     289.92\n3     1050.00\n34     642.76\n23     698.76\n31    1350.00\n10     177.50\n22     992.98\n18     337.50\n20     337.50\n7      170.71\n14     891.62\n28    1105.74\nName: Net, dtype: float64"
     },
     "execution_count": 98,
     "metadata": {},
     "output_type": "execute_result"
    }
   ],
   "source": [
    "y_train"
   ],
   "metadata": {
    "collapsed": false,
    "ExecuteTime": {
     "end_time": "2024-03-12T14:51:54.701778Z",
     "start_time": "2024-03-12T14:51:54.695439Z"
    }
   },
   "id": "b4f4c93de99ce61a",
   "execution_count": 98
  },
  {
   "cell_type": "code",
   "outputs": [],
   "source": [
    "# Initialize and train the model\n",
    "model = LinearRegression()\n"
   ],
   "metadata": {
    "collapsed": false
   },
   "id": "f724e3b804a2e249",
   "execution_count": null
  },
  {
   "cell_type": "code",
   "outputs": [
    {
     "data": {
      "text/plain": "         date                    name   INCOME  EXPENDITURE  Room Hire  \\\n24 1900-07-05            EPA - M John  1660.00       730.86        0.0   \n15 1900-01-25         EPA - A Spellar  1430.00       526.87        0.0   \n17 1900-03-14       EPA - R Henderson  1475.00       841.68        0.0   \n8  1900-11-10         EPA - A Thomson  1350.00       354.96        0.0   \n16 1900-02-14          EPA - K Benson  1660.00       682.44        0.0   \n12 1900-01-05           EPA - K Short  1350.00       350.00        0.0   \n19 1900-05-11  EPA - Z Edwards-Clarke  1433.00       761.41        0.0   \n9  1900-11-27             EPA - C Guy  1620.00       868.67        0.0   \n32 1900-07-27          EPA - A Harris  1430.00       573.19        0.0   \n0  1900-09-23          EPA 0 C Graham  1501.60       431.54        0.0   \n25 1900-07-06  EPA - S Holland (Gray)  1430.00       567.64        0.0   \n5  1900-11-03       EPA - S Stevenson  1760.00      1251.70        0.0   \n11 1900-11-30          EPA - S Norman  1760.00       449.06        0.0   \n1  1900-10-05          EPA - C Barker  1410.00       449.37        0.0   \n37 1900-08-01          EPA - M Wright   139.30       672.25        0.0   \n21 1900-05-16         EPA - R Ellahee  1620.00       958.81        0.0   \n2  1900-10-21          EPA - J Siddle  1438.80       471.51        0.0   \n29 1900-07-27           EPA - J Frost  1350.00       369.42        0.0   \n35 1900-08-17       EPA - E Proudlove  1660.00      1370.08        0.0   \n3  1900-10-25           EPA - H Shord  1350.00       300.00        0.0   \n34 1900-07-19            EPA - S Bond  1660.00      1017.24        0.0   \n23 1900-05-31           EPA - J Terry  1439.99       741.23        0.0   \n31 1900-10-03          EPA - L Jesson  1350.00         0.00        0.0   \n10 1900-11-25   KT Resit - J Padfield   177.50         0.00        0.0   \n22 1900-06-08       EPA - S Arrundale  1350.00       357.02        0.0   \n18 1900-04-12         Resit - K Short   337.50         0.00        0.0   \n20 1900-05-25     Resit - A Greenwood   337.50         0.00        0.0   \n7  1900-11-13           EPA - A Smith  1620.00      1449.29        0.0   \n14 1900-01-26          EPA - S Harris  1350.00       458.38        0.0   \n28 1900-07-27        EPA - A Sheppard  1438.80       333.06        0.0   \n\n    Day rate  Moderation  Other/IQA   Shadow/Obsv/Invig/Mod/IQA   \\\n24     600.0         0.0        0.0                          0.0   \n15     310.0        50.0        0.0                          0.0   \n17     450.0        50.0        0.0                          0.0   \n8      335.0         0.0        0.0                          0.0   \n16     600.0         0.0        0.0                          0.0   \n12     300.0        50.0        0.0                          0.0   \n19     300.0        50.0        0.0                          0.0   \n9      665.0         0.0        0.0                          0.0   \n32     300.0        50.0        0.0                          0.0   \n0      300.0         0.0        0.0                          0.0   \n25     320.0         0.0        0.0                          0.0   \n5      490.0         0.0        0.0                          0.0   \n11     340.0         0.0        0.0                          0.0   \n1      320.0         0.0        0.0                          0.0   \n37     400.0        50.0        0.0                          0.0   \n21     600.0        50.0        0.0                          0.0   \n2      300.0         0.0        0.0                          0.0   \n29     300.0         0.0       25.0                          0.0   \n35     740.0         0.0        0.0                          0.0   \n3      300.0         0.0        0.0                          0.0   \n34     600.0        50.0       37.5                          0.0   \n23     450.0         0.0        0.0                          0.0   \n31       0.0         0.0        0.0                          0.0   \n10       0.0         0.0        0.0                          0.0   \n22     300.0        50.0        0.0                          0.0   \n18       0.0         0.0        0.0                          0.0   \n20       0.0         0.0        0.0                          0.0   \n7      700.0         0.0        0.0                          0.0   \n14     310.0         0.0        0.0                          0.0   \n28     300.0         0.0        0.0                          0.0   \n\n     Mileage/travel    B&B/Subs     Total Margin  \n24            130.86        0.00   730.86    56%  \n15            124.12       42.75   526.87    63%  \n17            232.68      109.00   841.68    43%  \n8              19.96        0.00   354.96    74%  \n16             82.44        0.00   682.44    59%  \n12              0.00        0.00   350.00    74%  \n19            343.41       68.00   761.41    47%  \n9             203.67        0.00   868.67    46%  \n32             55.35      167.84   573.19    60%  \n0             131.54        0.00   431.54    71%  \n25            145.14      102.50   567.64    60%  \n5             502.38      259.32  1251.70    29%  \n11             73.08       35.98   449.06    74%  \n1             124.12        5.25   449.37    68%  \n37            152.25       70.00   672.25  -383%  \n21            308.81        0.00   958.81    41%  \n2              79.76       91.75   471.51    67%  \n29             44.42        0.00   369.42    73%  \n35            444.58      185.50  1370.08    17%  \n3               0.00        0.00   300.00    78%  \n34            232.74       97.00  1017.24    39%  \n23            209.23       82.00   741.23    49%  \n31              0.00        0.00     0.00   100%  \n10              0.00        0.00     0.00   100%  \n22              7.02        0.00   357.02    74%  \n18              0.00        0.00     0.00   100%  \n20              0.00        0.00     0.00   100%  \n7             492.07      257.22  1449.29    11%  \n14            105.63       42.75   458.38    66%  \n28             33.06        0.00   333.06    77%  ",
      "text/html": "<div>\n<style scoped>\n    .dataframe tbody tr th:only-of-type {\n        vertical-align: middle;\n    }\n\n    .dataframe tbody tr th {\n        vertical-align: top;\n    }\n\n    .dataframe thead th {\n        text-align: right;\n    }\n</style>\n<table border=\"1\" class=\"dataframe\">\n  <thead>\n    <tr style=\"text-align: right;\">\n      <th></th>\n      <th>date</th>\n      <th>name</th>\n      <th>INCOME</th>\n      <th>EXPENDITURE</th>\n      <th>Room Hire</th>\n      <th>Day rate</th>\n      <th>Moderation</th>\n      <th>Other/IQA</th>\n      <th>Shadow/Obsv/Invig/Mod/IQA</th>\n      <th>Mileage/travel</th>\n      <th>B&amp;B/Subs</th>\n      <th>Total</th>\n      <th>Margin</th>\n    </tr>\n  </thead>\n  <tbody>\n    <tr>\n      <th>24</th>\n      <td>1900-07-05</td>\n      <td>EPA - M John</td>\n      <td>1660.00</td>\n      <td>730.86</td>\n      <td>0.0</td>\n      <td>600.0</td>\n      <td>0.0</td>\n      <td>0.0</td>\n      <td>0.0</td>\n      <td>130.86</td>\n      <td>0.00</td>\n      <td>730.86</td>\n      <td>56%</td>\n    </tr>\n    <tr>\n      <th>15</th>\n      <td>1900-01-25</td>\n      <td>EPA - A Spellar</td>\n      <td>1430.00</td>\n      <td>526.87</td>\n      <td>0.0</td>\n      <td>310.0</td>\n      <td>50.0</td>\n      <td>0.0</td>\n      <td>0.0</td>\n      <td>124.12</td>\n      <td>42.75</td>\n      <td>526.87</td>\n      <td>63%</td>\n    </tr>\n    <tr>\n      <th>17</th>\n      <td>1900-03-14</td>\n      <td>EPA - R Henderson</td>\n      <td>1475.00</td>\n      <td>841.68</td>\n      <td>0.0</td>\n      <td>450.0</td>\n      <td>50.0</td>\n      <td>0.0</td>\n      <td>0.0</td>\n      <td>232.68</td>\n      <td>109.00</td>\n      <td>841.68</td>\n      <td>43%</td>\n    </tr>\n    <tr>\n      <th>8</th>\n      <td>1900-11-10</td>\n      <td>EPA - A Thomson</td>\n      <td>1350.00</td>\n      <td>354.96</td>\n      <td>0.0</td>\n      <td>335.0</td>\n      <td>0.0</td>\n      <td>0.0</td>\n      <td>0.0</td>\n      <td>19.96</td>\n      <td>0.00</td>\n      <td>354.96</td>\n      <td>74%</td>\n    </tr>\n    <tr>\n      <th>16</th>\n      <td>1900-02-14</td>\n      <td>EPA - K Benson</td>\n      <td>1660.00</td>\n      <td>682.44</td>\n      <td>0.0</td>\n      <td>600.0</td>\n      <td>0.0</td>\n      <td>0.0</td>\n      <td>0.0</td>\n      <td>82.44</td>\n      <td>0.00</td>\n      <td>682.44</td>\n      <td>59%</td>\n    </tr>\n    <tr>\n      <th>12</th>\n      <td>1900-01-05</td>\n      <td>EPA - K Short</td>\n      <td>1350.00</td>\n      <td>350.00</td>\n      <td>0.0</td>\n      <td>300.0</td>\n      <td>50.0</td>\n      <td>0.0</td>\n      <td>0.0</td>\n      <td>0.00</td>\n      <td>0.00</td>\n      <td>350.00</td>\n      <td>74%</td>\n    </tr>\n    <tr>\n      <th>19</th>\n      <td>1900-05-11</td>\n      <td>EPA - Z Edwards-Clarke</td>\n      <td>1433.00</td>\n      <td>761.41</td>\n      <td>0.0</td>\n      <td>300.0</td>\n      <td>50.0</td>\n      <td>0.0</td>\n      <td>0.0</td>\n      <td>343.41</td>\n      <td>68.00</td>\n      <td>761.41</td>\n      <td>47%</td>\n    </tr>\n    <tr>\n      <th>9</th>\n      <td>1900-11-27</td>\n      <td>EPA - C Guy</td>\n      <td>1620.00</td>\n      <td>868.67</td>\n      <td>0.0</td>\n      <td>665.0</td>\n      <td>0.0</td>\n      <td>0.0</td>\n      <td>0.0</td>\n      <td>203.67</td>\n      <td>0.00</td>\n      <td>868.67</td>\n      <td>46%</td>\n    </tr>\n    <tr>\n      <th>32</th>\n      <td>1900-07-27</td>\n      <td>EPA - A Harris</td>\n      <td>1430.00</td>\n      <td>573.19</td>\n      <td>0.0</td>\n      <td>300.0</td>\n      <td>50.0</td>\n      <td>0.0</td>\n      <td>0.0</td>\n      <td>55.35</td>\n      <td>167.84</td>\n      <td>573.19</td>\n      <td>60%</td>\n    </tr>\n    <tr>\n      <th>0</th>\n      <td>1900-09-23</td>\n      <td>EPA 0 C Graham</td>\n      <td>1501.60</td>\n      <td>431.54</td>\n      <td>0.0</td>\n      <td>300.0</td>\n      <td>0.0</td>\n      <td>0.0</td>\n      <td>0.0</td>\n      <td>131.54</td>\n      <td>0.00</td>\n      <td>431.54</td>\n      <td>71%</td>\n    </tr>\n    <tr>\n      <th>25</th>\n      <td>1900-07-06</td>\n      <td>EPA - S Holland (Gray)</td>\n      <td>1430.00</td>\n      <td>567.64</td>\n      <td>0.0</td>\n      <td>320.0</td>\n      <td>0.0</td>\n      <td>0.0</td>\n      <td>0.0</td>\n      <td>145.14</td>\n      <td>102.50</td>\n      <td>567.64</td>\n      <td>60%</td>\n    </tr>\n    <tr>\n      <th>5</th>\n      <td>1900-11-03</td>\n      <td>EPA - S Stevenson</td>\n      <td>1760.00</td>\n      <td>1251.70</td>\n      <td>0.0</td>\n      <td>490.0</td>\n      <td>0.0</td>\n      <td>0.0</td>\n      <td>0.0</td>\n      <td>502.38</td>\n      <td>259.32</td>\n      <td>1251.70</td>\n      <td>29%</td>\n    </tr>\n    <tr>\n      <th>11</th>\n      <td>1900-11-30</td>\n      <td>EPA - S Norman</td>\n      <td>1760.00</td>\n      <td>449.06</td>\n      <td>0.0</td>\n      <td>340.0</td>\n      <td>0.0</td>\n      <td>0.0</td>\n      <td>0.0</td>\n      <td>73.08</td>\n      <td>35.98</td>\n      <td>449.06</td>\n      <td>74%</td>\n    </tr>\n    <tr>\n      <th>1</th>\n      <td>1900-10-05</td>\n      <td>EPA - C Barker</td>\n      <td>1410.00</td>\n      <td>449.37</td>\n      <td>0.0</td>\n      <td>320.0</td>\n      <td>0.0</td>\n      <td>0.0</td>\n      <td>0.0</td>\n      <td>124.12</td>\n      <td>5.25</td>\n      <td>449.37</td>\n      <td>68%</td>\n    </tr>\n    <tr>\n      <th>37</th>\n      <td>1900-08-01</td>\n      <td>EPA - M Wright</td>\n      <td>139.30</td>\n      <td>672.25</td>\n      <td>0.0</td>\n      <td>400.0</td>\n      <td>50.0</td>\n      <td>0.0</td>\n      <td>0.0</td>\n      <td>152.25</td>\n      <td>70.00</td>\n      <td>672.25</td>\n      <td>-383%</td>\n    </tr>\n    <tr>\n      <th>21</th>\n      <td>1900-05-16</td>\n      <td>EPA - R Ellahee</td>\n      <td>1620.00</td>\n      <td>958.81</td>\n      <td>0.0</td>\n      <td>600.0</td>\n      <td>50.0</td>\n      <td>0.0</td>\n      <td>0.0</td>\n      <td>308.81</td>\n      <td>0.00</td>\n      <td>958.81</td>\n      <td>41%</td>\n    </tr>\n    <tr>\n      <th>2</th>\n      <td>1900-10-21</td>\n      <td>EPA - J Siddle</td>\n      <td>1438.80</td>\n      <td>471.51</td>\n      <td>0.0</td>\n      <td>300.0</td>\n      <td>0.0</td>\n      <td>0.0</td>\n      <td>0.0</td>\n      <td>79.76</td>\n      <td>91.75</td>\n      <td>471.51</td>\n      <td>67%</td>\n    </tr>\n    <tr>\n      <th>29</th>\n      <td>1900-07-27</td>\n      <td>EPA - J Frost</td>\n      <td>1350.00</td>\n      <td>369.42</td>\n      <td>0.0</td>\n      <td>300.0</td>\n      <td>0.0</td>\n      <td>25.0</td>\n      <td>0.0</td>\n      <td>44.42</td>\n      <td>0.00</td>\n      <td>369.42</td>\n      <td>73%</td>\n    </tr>\n    <tr>\n      <th>35</th>\n      <td>1900-08-17</td>\n      <td>EPA - E Proudlove</td>\n      <td>1660.00</td>\n      <td>1370.08</td>\n      <td>0.0</td>\n      <td>740.0</td>\n      <td>0.0</td>\n      <td>0.0</td>\n      <td>0.0</td>\n      <td>444.58</td>\n      <td>185.50</td>\n      <td>1370.08</td>\n      <td>17%</td>\n    </tr>\n    <tr>\n      <th>3</th>\n      <td>1900-10-25</td>\n      <td>EPA - H Shord</td>\n      <td>1350.00</td>\n      <td>300.00</td>\n      <td>0.0</td>\n      <td>300.0</td>\n      <td>0.0</td>\n      <td>0.0</td>\n      <td>0.0</td>\n      <td>0.00</td>\n      <td>0.00</td>\n      <td>300.00</td>\n      <td>78%</td>\n    </tr>\n    <tr>\n      <th>34</th>\n      <td>1900-07-19</td>\n      <td>EPA - S Bond</td>\n      <td>1660.00</td>\n      <td>1017.24</td>\n      <td>0.0</td>\n      <td>600.0</td>\n      <td>50.0</td>\n      <td>37.5</td>\n      <td>0.0</td>\n      <td>232.74</td>\n      <td>97.00</td>\n      <td>1017.24</td>\n      <td>39%</td>\n    </tr>\n    <tr>\n      <th>23</th>\n      <td>1900-05-31</td>\n      <td>EPA - J Terry</td>\n      <td>1439.99</td>\n      <td>741.23</td>\n      <td>0.0</td>\n      <td>450.0</td>\n      <td>0.0</td>\n      <td>0.0</td>\n      <td>0.0</td>\n      <td>209.23</td>\n      <td>82.00</td>\n      <td>741.23</td>\n      <td>49%</td>\n    </tr>\n    <tr>\n      <th>31</th>\n      <td>1900-10-03</td>\n      <td>EPA - L Jesson</td>\n      <td>1350.00</td>\n      <td>0.00</td>\n      <td>0.0</td>\n      <td>0.0</td>\n      <td>0.0</td>\n      <td>0.0</td>\n      <td>0.0</td>\n      <td>0.00</td>\n      <td>0.00</td>\n      <td>0.00</td>\n      <td>100%</td>\n    </tr>\n    <tr>\n      <th>10</th>\n      <td>1900-11-25</td>\n      <td>KT Resit - J Padfield</td>\n      <td>177.50</td>\n      <td>0.00</td>\n      <td>0.0</td>\n      <td>0.0</td>\n      <td>0.0</td>\n      <td>0.0</td>\n      <td>0.0</td>\n      <td>0.00</td>\n      <td>0.00</td>\n      <td>0.00</td>\n      <td>100%</td>\n    </tr>\n    <tr>\n      <th>22</th>\n      <td>1900-06-08</td>\n      <td>EPA - S Arrundale</td>\n      <td>1350.00</td>\n      <td>357.02</td>\n      <td>0.0</td>\n      <td>300.0</td>\n      <td>50.0</td>\n      <td>0.0</td>\n      <td>0.0</td>\n      <td>7.02</td>\n      <td>0.00</td>\n      <td>357.02</td>\n      <td>74%</td>\n    </tr>\n    <tr>\n      <th>18</th>\n      <td>1900-04-12</td>\n      <td>Resit - K Short</td>\n      <td>337.50</td>\n      <td>0.00</td>\n      <td>0.0</td>\n      <td>0.0</td>\n      <td>0.0</td>\n      <td>0.0</td>\n      <td>0.0</td>\n      <td>0.00</td>\n      <td>0.00</td>\n      <td>0.00</td>\n      <td>100%</td>\n    </tr>\n    <tr>\n      <th>20</th>\n      <td>1900-05-25</td>\n      <td>Resit - A Greenwood</td>\n      <td>337.50</td>\n      <td>0.00</td>\n      <td>0.0</td>\n      <td>0.0</td>\n      <td>0.0</td>\n      <td>0.0</td>\n      <td>0.0</td>\n      <td>0.00</td>\n      <td>0.00</td>\n      <td>0.00</td>\n      <td>100%</td>\n    </tr>\n    <tr>\n      <th>7</th>\n      <td>1900-11-13</td>\n      <td>EPA - A Smith</td>\n      <td>1620.00</td>\n      <td>1449.29</td>\n      <td>0.0</td>\n      <td>700.0</td>\n      <td>0.0</td>\n      <td>0.0</td>\n      <td>0.0</td>\n      <td>492.07</td>\n      <td>257.22</td>\n      <td>1449.29</td>\n      <td>11%</td>\n    </tr>\n    <tr>\n      <th>14</th>\n      <td>1900-01-26</td>\n      <td>EPA - S Harris</td>\n      <td>1350.00</td>\n      <td>458.38</td>\n      <td>0.0</td>\n      <td>310.0</td>\n      <td>0.0</td>\n      <td>0.0</td>\n      <td>0.0</td>\n      <td>105.63</td>\n      <td>42.75</td>\n      <td>458.38</td>\n      <td>66%</td>\n    </tr>\n    <tr>\n      <th>28</th>\n      <td>1900-07-27</td>\n      <td>EPA - A Sheppard</td>\n      <td>1438.80</td>\n      <td>333.06</td>\n      <td>0.0</td>\n      <td>300.0</td>\n      <td>0.0</td>\n      <td>0.0</td>\n      <td>0.0</td>\n      <td>33.06</td>\n      <td>0.00</td>\n      <td>333.06</td>\n      <td>77%</td>\n    </tr>\n  </tbody>\n</table>\n</div>"
     },
     "execution_count": 102,
     "metadata": {},
     "output_type": "execute_result"
    }
   ],
   "source": [
    "model"
   ],
   "metadata": {
    "collapsed": false,
    "ExecuteTime": {
     "end_time": "2024-03-12T14:56:25.630148Z",
     "start_time": "2024-03-12T14:56:25.604984Z"
    }
   },
   "id": "2375512341878e22",
   "execution_count": 102
  },
  {
   "cell_type": "code",
   "outputs": [
    {
     "ename": "KeyError",
     "evalue": "'Net'",
     "output_type": "error",
     "traceback": [
      "\u001B[0;31m---------------------------------------------------------------------------\u001B[0m",
      "\u001B[0;31mKeyError\u001B[0m                                  Traceback (most recent call last)",
      "File \u001B[0;32m~/PycharmProjects/APA_Breakdown/.venv/lib/python3.11/site-packages/pandas/core/indexes/base.py:3805\u001B[0m, in \u001B[0;36mIndex.get_loc\u001B[0;34m(self, key)\u001B[0m\n\u001B[1;32m   3804\u001B[0m \u001B[38;5;28;01mtry\u001B[39;00m:\n\u001B[0;32m-> 3805\u001B[0m     \u001B[38;5;28;01mreturn\u001B[39;00m \u001B[38;5;28;43mself\u001B[39;49m\u001B[38;5;241;43m.\u001B[39;49m\u001B[43m_engine\u001B[49m\u001B[38;5;241;43m.\u001B[39;49m\u001B[43mget_loc\u001B[49m\u001B[43m(\u001B[49m\u001B[43mcasted_key\u001B[49m\u001B[43m)\u001B[49m\n\u001B[1;32m   3806\u001B[0m \u001B[38;5;28;01mexcept\u001B[39;00m \u001B[38;5;167;01mKeyError\u001B[39;00m \u001B[38;5;28;01mas\u001B[39;00m err:\n",
      "File \u001B[0;32mindex.pyx:167\u001B[0m, in \u001B[0;36mpandas._libs.index.IndexEngine.get_loc\u001B[0;34m()\u001B[0m\n",
      "File \u001B[0;32mindex.pyx:196\u001B[0m, in \u001B[0;36mpandas._libs.index.IndexEngine.get_loc\u001B[0;34m()\u001B[0m\n",
      "File \u001B[0;32mpandas/_libs/hashtable_class_helper.pxi:7081\u001B[0m, in \u001B[0;36mpandas._libs.hashtable.PyObjectHashTable.get_item\u001B[0;34m()\u001B[0m\n",
      "File \u001B[0;32mpandas/_libs/hashtable_class_helper.pxi:7089\u001B[0m, in \u001B[0;36mpandas._libs.hashtable.PyObjectHashTable.get_item\u001B[0;34m()\u001B[0m\n",
      "\u001B[0;31mKeyError\u001B[0m: 'Net'",
      "\nThe above exception was the direct cause of the following exception:\n",
      "\u001B[0;31mKeyError\u001B[0m                                  Traceback (most recent call last)",
      "Cell \u001B[0;32mIn[100], line 1\u001B[0m\n\u001B[0;32m----> 1\u001B[0m model\u001B[38;5;241m.\u001B[39mfit(\u001B[43mX_train\u001B[49m\u001B[43m[\u001B[49m\u001B[38;5;124;43m'\u001B[39;49m\u001B[38;5;124;43mNet\u001B[39;49m\u001B[38;5;124;43m'\u001B[39;49m\u001B[43m]\u001B[49m, y_train)\n",
      "File \u001B[0;32m~/PycharmProjects/APA_Breakdown/.venv/lib/python3.11/site-packages/pandas/core/frame.py:4090\u001B[0m, in \u001B[0;36mDataFrame.__getitem__\u001B[0;34m(self, key)\u001B[0m\n\u001B[1;32m   4088\u001B[0m \u001B[38;5;28;01mif\u001B[39;00m \u001B[38;5;28mself\u001B[39m\u001B[38;5;241m.\u001B[39mcolumns\u001B[38;5;241m.\u001B[39mnlevels \u001B[38;5;241m>\u001B[39m \u001B[38;5;241m1\u001B[39m:\n\u001B[1;32m   4089\u001B[0m     \u001B[38;5;28;01mreturn\u001B[39;00m \u001B[38;5;28mself\u001B[39m\u001B[38;5;241m.\u001B[39m_getitem_multilevel(key)\n\u001B[0;32m-> 4090\u001B[0m indexer \u001B[38;5;241m=\u001B[39m \u001B[38;5;28;43mself\u001B[39;49m\u001B[38;5;241;43m.\u001B[39;49m\u001B[43mcolumns\u001B[49m\u001B[38;5;241;43m.\u001B[39;49m\u001B[43mget_loc\u001B[49m\u001B[43m(\u001B[49m\u001B[43mkey\u001B[49m\u001B[43m)\u001B[49m\n\u001B[1;32m   4091\u001B[0m \u001B[38;5;28;01mif\u001B[39;00m is_integer(indexer):\n\u001B[1;32m   4092\u001B[0m     indexer \u001B[38;5;241m=\u001B[39m [indexer]\n",
      "File \u001B[0;32m~/PycharmProjects/APA_Breakdown/.venv/lib/python3.11/site-packages/pandas/core/indexes/base.py:3812\u001B[0m, in \u001B[0;36mIndex.get_loc\u001B[0;34m(self, key)\u001B[0m\n\u001B[1;32m   3807\u001B[0m     \u001B[38;5;28;01mif\u001B[39;00m \u001B[38;5;28misinstance\u001B[39m(casted_key, \u001B[38;5;28mslice\u001B[39m) \u001B[38;5;129;01mor\u001B[39;00m (\n\u001B[1;32m   3808\u001B[0m         \u001B[38;5;28misinstance\u001B[39m(casted_key, abc\u001B[38;5;241m.\u001B[39mIterable)\n\u001B[1;32m   3809\u001B[0m         \u001B[38;5;129;01mand\u001B[39;00m \u001B[38;5;28many\u001B[39m(\u001B[38;5;28misinstance\u001B[39m(x, \u001B[38;5;28mslice\u001B[39m) \u001B[38;5;28;01mfor\u001B[39;00m x \u001B[38;5;129;01min\u001B[39;00m casted_key)\n\u001B[1;32m   3810\u001B[0m     ):\n\u001B[1;32m   3811\u001B[0m         \u001B[38;5;28;01mraise\u001B[39;00m InvalidIndexError(key)\n\u001B[0;32m-> 3812\u001B[0m     \u001B[38;5;28;01mraise\u001B[39;00m \u001B[38;5;167;01mKeyError\u001B[39;00m(key) \u001B[38;5;28;01mfrom\u001B[39;00m \u001B[38;5;21;01merr\u001B[39;00m\n\u001B[1;32m   3813\u001B[0m \u001B[38;5;28;01mexcept\u001B[39;00m \u001B[38;5;167;01mTypeError\u001B[39;00m:\n\u001B[1;32m   3814\u001B[0m     \u001B[38;5;66;03m# If we have a listlike key, _check_indexing_error will raise\u001B[39;00m\n\u001B[1;32m   3815\u001B[0m     \u001B[38;5;66;03m#  InvalidIndexError. Otherwise we fall through and re-raise\u001B[39;00m\n\u001B[1;32m   3816\u001B[0m     \u001B[38;5;66;03m#  the TypeError.\u001B[39;00m\n\u001B[1;32m   3817\u001B[0m     \u001B[38;5;28mself\u001B[39m\u001B[38;5;241m.\u001B[39m_check_indexing_error(key)\n",
      "\u001B[0;31mKeyError\u001B[0m: 'Net'"
     ]
    }
   ],
   "source": [
    "model.fit(X_train['Net'], y_train)"
   ],
   "metadata": {
    "collapsed": false,
    "ExecuteTime": {
     "end_time": "2024-03-12T14:56:03.911439Z",
     "start_time": "2024-03-12T14:56:03.426726Z"
    }
   },
   "id": "11d47d82a9151d33",
   "execution_count": 100
  }
 ],
 "metadata": {
  "kernelspec": {
   "display_name": "Python 3",
   "language": "python",
   "name": "python3"
  },
  "language_info": {
   "codemirror_mode": {
    "name": "ipython",
    "version": 2
   },
   "file_extension": ".py",
   "mimetype": "text/x-python",
   "name": "python",
   "nbconvert_exporter": "python",
   "pygments_lexer": "ipython2",
   "version": "2.7.6"
  }
 },
 "nbformat": 4,
 "nbformat_minor": 5
}
